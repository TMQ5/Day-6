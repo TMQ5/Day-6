{
 "cells": [
  {
   "cell_type": "markdown",
   "id": "5ffb93ae",
   "metadata": {},
   "source": [
    "# Q1: Import numpy library"
   ]
  },
  {
   "cell_type": "code",
   "execution_count": 1,
   "id": "936d4703",
   "metadata": {},
   "outputs": [],
   "source": [
    "# Import numpy library\n",
    "import numpy as np "
   ]
  },
  {
   "cell_type": "markdown",
   "id": "b6991a89",
   "metadata": {},
   "source": [
    "# Q2: Generate a sequence of 15 floats using linspace() function"
   ]
  },
  {
   "cell_type": "code",
   "execution_count": 3,
   "id": "43bf04a5",
   "metadata": {},
   "outputs": [
    {
     "data": {
      "text/plain": [
       "array([ 0.        ,  0.32653061,  0.65306122,  0.97959184,  1.30612245,\n",
       "        1.63265306,  1.95918367,  2.28571429,  2.6122449 ,  2.93877551,\n",
       "        3.26530612,  3.59183673,  3.91836735,  4.24489796,  4.57142857,\n",
       "        4.89795918,  5.2244898 ,  5.55102041,  5.87755102,  6.20408163,\n",
       "        6.53061224,  6.85714286,  7.18367347,  7.51020408,  7.83673469,\n",
       "        8.16326531,  8.48979592,  8.81632653,  9.14285714,  9.46938776,\n",
       "        9.79591837, 10.12244898, 10.44897959, 10.7755102 , 11.10204082,\n",
       "       11.42857143, 11.75510204, 12.08163265, 12.40816327, 12.73469388,\n",
       "       13.06122449, 13.3877551 , 13.71428571, 14.04081633, 14.36734694,\n",
       "       14.69387755, 15.02040816, 15.34693878, 15.67346939, 16.        ])"
      ]
     },
     "execution_count": 3,
     "metadata": {},
     "output_type": "execute_result"
    }
   ],
   "source": [
    "# Generate a sequence of 15 floats using linspace() function\n",
    "float_num = np.linspace(0,16)\n",
    "float_num"
   ]
  },
  {
   "cell_type": "markdown",
   "id": "7144bba8",
   "metadata": {},
   "source": [
    "# Q3: Create a 3-D array in shape (2, 2, 3) containing the four arrays given below \n",
    "Note : the array's name is up to you.\n",
    "\n",
    "|      |       |          |         |\n",
    "|------| ----- | -------- | ------- |\n",
    "|arr1 | 1.1    | 2.1       | 3.1        |\n",
    "|arr2 | 4.1    | 5.1       | 6.1        |\n",
    "|arr3 | 7.1    | 8.1       | 9.1        |\n",
    "|arr4 | 10.1   | 11.1      | 12.1       |"
   ]
  },
  {
   "cell_type": "code",
   "execution_count": 14,
   "id": "c1c3f9dc",
   "metadata": {},
   "outputs": [
    {
     "name": "stdout",
     "output_type": "stream",
     "text": [
      "Q3: 3-D Array (array_3d):\n",
      "[[[ 1.1  2.1  3.1]\n",
      "  [ 4.1  5.1  6.1]]\n",
      "\n",
      " [[ 7.1  8.1  9.1]\n",
      "  [10.1 11.1 12.1]]]\n"
     ]
    }
   ],
   "source": [
    "# Create a 3-D array in shape (2, 2, 3) containing the four arrays\n",
    "array_3d = np.array([\n",
    "    [[1.1, 2.1, 3.1],[4.1, 5.1, 6.1]],\n",
    "    [[7.1, 8.1, 9.1],[10.1, 11.1, 12.1]]\n",
    "])\n",
    "print(\"Q3: 3-D Array (array_3d):\")\n",
    "print(array_3d)"
   ]
  },
  {
   "cell_type": "markdown",
   "id": "807acbf6",
   "metadata": {},
   "source": [
    "# Q4: Print the following:\n",
    "Note: use the same array from Q3.\n",
    "- Array's type.\n",
    "- Array's elements datatype.\n",
    "- Array's shape.\n",
    "- Array's size.\n",
    "- Array's dimention."
   ]
  },
  {
   "cell_type": "code",
   "execution_count": 19,
   "id": "6e90d6a0",
   "metadata": {},
   "outputs": [
    {
     "name": "stdout",
     "output_type": "stream",
     "text": [
      "\n",
      " Q4: Characteristics of array_3d:\n",
      "- Data Type (dtype of array object): <class 'numpy.ndarray'>\n",
      "- Data Type (dtype of elements): float64\n",
      "- Shape of array_3d: (2, 2, 3)\n",
      "- Total Number of Elements (size): 12\n",
      "- Number of Dimensions (ndim): 3\n"
     ]
    }
   ],
   "source": [
    "# Print array_3d characteristics\n",
    "print(\"\\n Q4: Characteristics of array_3d:\")\n",
    "print(\"- Data Type (dtype of array object):\", type(array_3d))\n",
    "print(\"- Data Type (dtype of elements):\", array_3d.dtype)\n",
    "print(\"- Shape of array_3d:\", array_3d.shape)\n",
    "print(\"- Total Number of Elements (size):\", array_3d.size)\n",
    "print(\"- Number of Dimensions (ndim):\", array_3d.ndim)"
   ]
  },
  {
   "cell_type": "markdown",
   "id": "db4958b5",
   "metadata": {},
   "source": [
    "# Q5:  Change the array dimention from 3-D to 4-D\n",
    "Note: use the same array from Q3.\n",
    "- Create a new array to hold the changes. \n",
    "- Print the new array's dimention and shape."
   ]
  },
  {
   "cell_type": "code",
   "execution_count": 21,
   "id": "e9f5c88c",
   "metadata": {},
   "outputs": [
    {
     "name": "stdout",
     "output_type": "stream",
     "text": [
      "\n",
      "Q5: Changed array to 4-D:\n",
      "[[[[ 1.1]\n",
      "   [ 2.1]\n",
      "   [ 3.1]]\n",
      "\n",
      "  [[ 4.1]\n",
      "   [ 5.1]\n",
      "   [ 6.1]]]\n",
      "\n",
      "\n",
      " [[[ 7.1]\n",
      "   [ 8.1]\n",
      "   [ 9.1]]\n",
      "\n",
      "  [[10.1]\n",
      "   [11.1]\n",
      "   [12.1]]]]\n",
      "\n",
      "New Shape of array_4d: (2, 2, 3, 1)\n",
      "New Number of Dimensions (ndim): 4\n"
     ]
    }
   ],
   "source": [
    "# Change the array dimension from 3-D to 4-D\n",
    "array_4d = array_3d.reshape(2, 2, 3, 1)\n",
    "\n",
    "print(\"\\nQ5: Changed array to 4-D:\")\n",
    "print(array_4d)\n",
    "\n",
    "print(\"\\nNew Shape of array_4d:\", array_4d.shape)\n",
    "print(\"New Number of Dimensions (ndim):\", array_4d.ndim)"
   ]
  },
  {
   "cell_type": "markdown",
   "id": "454f2504",
   "metadata": {},
   "source": [
    "# Q6: Change the array's elements datatype to integer  \n",
    "Note: use the same array from Q5.\n",
    "\n",
    "- Create a new array to hold the changes. \n",
    "- Print the new array."
   ]
  },
  {
   "cell_type": "code",
   "execution_count": 29,
   "id": "8135b045",
   "metadata": {},
   "outputs": [
    {
     "name": "stdout",
     "output_type": "stream",
     "text": [
      "\n",
      "Q6: Array with elements converted to integers:\n",
      "[[[[ 1]\n",
      "   [ 2]\n",
      "   [ 3]]\n",
      "\n",
      "  [[ 4]\n",
      "   [ 5]\n",
      "   [ 6]]]\n",
      "\n",
      "\n",
      " [[[ 7]\n",
      "   [ 8]\n",
      "   [ 9]]\n",
      "\n",
      "  [[10]\n",
      "   [11]\n",
      "   [12]]]]\n",
      "\n",
      "Data Type (dtype of elements): int64\n"
     ]
    }
   ],
   "source": [
    "# Change the array's elements datatype to integer\n",
    "array_4d_int = array_4d.astype(int)\n",
    "print(\"\\nQ6: Array with elements converted to integers:\")\n",
    "print(array_4d_int)\n",
    "print(\"\\nData Type (dtype of elements):\", array_4d_int.dtype)"
   ]
  },
  {
   "cell_type": "markdown",
   "id": "ab90badc",
   "metadata": {},
   "source": [
    "# Q7: Print all array's elements using for loop\n",
    "Note: use the same array from Q6.\n",
    "\n",
    "Hint: use nditer()"
   ]
  },
  {
   "cell_type": "code",
   "execution_count": 28,
   "id": "a0d58d15",
   "metadata": {},
   "outputs": [
    {
     "name": "stdout",
     "output_type": "stream",
     "text": [
      "\n",
      "Q7: All elements of the array using a for loop:\n",
      "1 2 3 4 5 6 7 8 9 10 11 12 "
     ]
    }
   ],
   "source": [
    "# Print all array's elements using a for loop\n",
    "print(\"\\nQ7: All elements of the array using a for loop:\")\n",
    "for element in np.nditer(array_4d_int):\n",
    "    print(element, end=\" \")"
   ]
  },
  {
   "cell_type": "markdown",
   "id": "afa8b5f3",
   "metadata": {},
   "source": [
    "# Q8:  Print number 8 using array slicing\n",
    "Note: use the same array from Q6."
   ]
  },
  {
   "cell_type": "code",
   "execution_count": 30,
   "id": "6e12e2d7",
   "metadata": {},
   "outputs": [
    {
     "name": "stdout",
     "output_type": "stream",
     "text": [
      "\n",
      "\n",
      "Q8: Number 8 using array slicing:\n",
      "8\n"
     ]
    }
   ],
   "source": [
    "# Q8: Print number 8 using array slicing\n",
    "number_8 = array_4d_int[1, 0, 1, 0]  # Accessing the element at the correct position\n",
    "print(\"\\n\\nQ8: Number 8 using array slicing:\")\n",
    "print(number_8)"
   ]
  },
  {
   "cell_type": "markdown",
   "id": "e2e71895",
   "metadata": {},
   "source": [
    "# Q9: Print number 5 and number 6 using array slicing\n",
    "Note: use the same array from Q6."
   ]
  },
  {
   "cell_type": "code",
   "execution_count": 31,
   "id": "c3218bcb",
   "metadata": {},
   "outputs": [
    {
     "name": "stdout",
     "output_type": "stream",
     "text": [
      "\n",
      "Q9: Numbers 5 and 6 using array slicing:\n",
      "[5 6]\n"
     ]
    }
   ],
   "source": [
    "# Q9: Print numbers 5 and 6 using array slicing\n",
    "numbers_5_and_6 = array_4d_int[0, 1, 1:, 0]  # Accessing the slice containing 5 and 6\n",
    "print(\"\\nQ9: Numbers 5 and 6 using array slicing:\")\n",
    "print(numbers_5_and_6)"
   ]
  },
  {
   "cell_type": "markdown",
   "id": "e5d63cd3",
   "metadata": {},
   "source": [
    "# Q10: Search for number 8 using where()\n",
    "Note: use the same array from Q6.\n",
    "\n",
    "Note: where() is only used with small data.\n",
    "\n",
    "*the output represents the path of the index that leads to number 8*"
   ]
  },
  {
   "cell_type": "code",
   "execution_count": 34,
   "id": "ddaf0146",
   "metadata": {},
   "outputs": [
    {
     "name": "stdout",
     "output_type": "stream",
     "text": [
      "Indices of number 8: (array([1]), array([0]), array([1]), array([0]))\n"
     ]
    }
   ],
   "source": [
    "# Search for number 8 using where()\n",
    "indices = np.where(array_4d_int == 8)  \n",
    "print(\"Indices of number 8:\", indices)"
   ]
  },
  {
   "cell_type": "markdown",
   "id": "c89f41ad",
   "metadata": {},
   "source": [
    "# Q11: Reshape the array as the following\n",
    "\n",
    "    array([[[ 1, 2],\n",
    "            [ 3,  4],\n",
    "            [ 5,  6]],\n",
    "\n",
    "           [[ 7,  8],\n",
    "            [ 9, 10],\n",
    "            [11, 12]]])\n",
    "            \n",
    " Note: use the same array from Q6."
   ]
  },
  {
   "cell_type": "code",
   "execution_count": 37,
   "id": "d9b632bd",
   "metadata": {},
   "outputs": [
    {
     "name": "stdout",
     "output_type": "stream",
     "text": [
      "Reshaped Array:\n",
      "[[[ 1  2]\n",
      "  [ 3  4]\n",
      "  [ 5  6]]\n",
      "\n",
      " [[ 7  8]\n",
      "  [ 9 10]\n",
      "  [11 12]]]\n"
     ]
    }
   ],
   "source": [
    "# Reshaping the array to the required shape\n",
    "reshaped_array = array_4d_int.reshape((2, 3, 2))\n",
    "print(\"Reshaped Array:\")\n",
    "print(reshaped_array)"
   ]
  },
  {
   "cell_type": "markdown",
   "id": "539c16b1",
   "metadata": {},
   "source": [
    "# Q12: Join the given arrays below \n",
    "    arr1 = np.array([['A', 'B'], ['E', 'F']])\n",
    "    arr2 = np.array([['C', 'D'], ['G', 'H']])\n",
    "## Q12.1: Join the arrays without specifying the axis "
   ]
  },
  {
   "cell_type": "code",
   "execution_count": 42,
   "id": "d6acdeaf",
   "metadata": {},
   "outputs": [
    {
     "name": "stdout",
     "output_type": "stream",
     "text": [
      "\n",
      "Joined Array (without axis):\n",
      "[['A' 'B']\n",
      " ['E' 'F']\n",
      " ['C' 'D']\n",
      " ['G' 'H']]\n"
     ]
    }
   ],
   "source": [
    "arr1 = np.array([['A', 'B'], ['E', 'F']])\n",
    "arr2 = np.array([['C', 'D'], ['G', 'H']])\n",
    "\n",
    "# Join the arrays without specifying the axis\n",
    "joined_array = np.concatenate((arr1, arr2))  \n",
    "print(\"\\nJoined Array (without axis):\")\n",
    "print(joined_array)"
   ]
  },
  {
   "cell_type": "markdown",
   "id": "1a37dd47",
   "metadata": {},
   "source": [
    "# Q12.2: Join the arrays along rows with axis = 1 "
   ]
  },
  {
   "cell_type": "code",
   "execution_count": 43,
   "id": "b849658c",
   "metadata": {},
   "outputs": [
    {
     "name": "stdout",
     "output_type": "stream",
     "text": [
      "\n",
      "Joined Array (axis=1):\n",
      "[['A' 'B' 'C' 'D']\n",
      " ['E' 'F' 'G' 'H']]\n"
     ]
    }
   ],
   "source": [
    "# Join the arrays along rows with axis = 1\n",
    "joined_array_axis1 = np.concatenate((arr1, arr2), axis=1)\n",
    "print(\"\\nJoined Array (axis=1):\")\n",
    "print(joined_array_axis1)"
   ]
  },
  {
   "cell_type": "markdown",
   "id": "7296eecf",
   "metadata": {},
   "source": [
    "# Q13: Split the array into two arrays with axis = 1, each array should contain four arrays. \n",
    "Note: use the same array from Q12.1"
   ]
  },
  {
   "cell_type": "code",
   "execution_count": 44,
   "id": "7f7f5e49",
   "metadata": {},
   "outputs": [
    {
     "name": "stdout",
     "output_type": "stream",
     "text": [
      "\n",
      "Split Arrays:\n",
      "Array 1:\n",
      "[['A']\n",
      " ['E']\n",
      " ['C']\n",
      " ['G']]\n",
      "Array 2:\n",
      "[['B']\n",
      " ['F']\n",
      " ['D']\n",
      " ['H']]\n"
     ]
    }
   ],
   "source": [
    "# Splitting the array into two parts along axis=1\n",
    "split_arrays = np.split(joined_array, 2, axis=1)  \n",
    "print(\"\\nSplit Arrays:\")\n",
    "for i, arr in enumerate(split_arrays):\n",
    "    print(f\"Array {i+1}:\")\n",
    "    print(arr)"
   ]
  }
 ],
 "metadata": {
  "kernelspec": {
   "display_name": "Python 3 (ipykernel)",
   "language": "python",
   "name": "python3"
  },
  "language_info": {
   "codemirror_mode": {
    "name": "ipython",
    "version": 3
   },
   "file_extension": ".py",
   "mimetype": "text/x-python",
   "name": "python",
   "nbconvert_exporter": "python",
   "pygments_lexer": "ipython3",
   "version": "3.11.5"
  }
 },
 "nbformat": 4,
 "nbformat_minor": 5
}
