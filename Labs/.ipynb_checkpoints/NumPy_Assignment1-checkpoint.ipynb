{
 "cells": [
  {
   "cell_type": "code",
   "execution_count": 130,
   "id": "212fd1ba",
   "metadata": {},
   "outputs": [],
   "source": [
    "import numpy as np"
   ]
  },
  {
   "cell_type": "markdown",
   "id": "10803eb0",
   "metadata": {},
   "source": [
    "## Q#1: Create x array with elements equal to 1."
   ]
  },
  {
   "cell_type": "code",
   "execution_count": 131,
   "id": "3307454f",
   "metadata": {},
   "outputs": [
    {
     "name": "stdout",
     "output_type": "stream",
     "text": [
      "\n",
      "Q1: Array x:\n",
      "[[1. 1. 1. 1.]\n",
      " [1. 1. 1. 1.]\n",
      " [1. 1. 1. 1.]\n",
      " [1. 1. 1. 1.]]\n"
     ]
    }
   ],
   "source": [
    "# Create x array with elements equal to 1\n",
    "x = np.ones((4,4))\n",
    "print(\"\\nQ1: Array x:\")\n",
    "print(x)"
   ]
  },
  {
   "cell_type": "markdown",
   "id": "7795306d",
   "metadata": {},
   "source": [
    "## Q#2: Create y array with elements equal to 0."
   ]
  },
  {
   "cell_type": "code",
   "execution_count": 132,
   "id": "9550b063",
   "metadata": {},
   "outputs": [
    {
     "name": "stdout",
     "output_type": "stream",
     "text": [
      "\n",
      "Q2: Array y:\n",
      "[[0. 0. 0. 0.]\n",
      " [0. 0. 0. 0.]\n",
      " [0. 0. 0. 0.]\n",
      " [0. 0. 0. 0.]]\n"
     ]
    }
   ],
   "source": [
    "# Create y array with elements equal to 0\n",
    "y = np.zeros((4,4))\n",
    "print(\"\\nQ2: Array y:\")\n",
    "print(y)"
   ]
  },
  {
   "cell_type": "markdown",
   "id": "cde6a939",
   "metadata": {},
   "source": [
    "## Q#3: Add x and y arrays."
   ]
  },
  {
   "cell_type": "code",
   "execution_count": 133,
   "id": "71070d1d",
   "metadata": {},
   "outputs": [
    {
     "name": "stdout",
     "output_type": "stream",
     "text": [
      "\n",
      "Q3: Array t (x + y):\n",
      "[[1. 1. 1. 1.]\n",
      " [1. 1. 1. 1.]\n",
      " [1. 1. 1. 1.]\n",
      " [1. 1. 1. 1.]]\n"
     ]
    }
   ],
   "source": [
    "# Add x and y arrays\n",
    "t = x + y\n",
    "print(\"\\nQ3: Array t (x + y):\")\n",
    "print(t)"
   ]
  },
  {
   "cell_type": "markdown",
   "id": "ed854f4c",
   "metadata": {},
   "source": [
    "## Q#4: Print x array characteristics (e.g: dimension, shape, size, type)."
   ]
  },
  {
   "cell_type": "code",
   "execution_count": 134,
   "id": "32627c83",
   "metadata": {},
   "outputs": [
    {
     "name": "stdout",
     "output_type": "stream",
     "text": [
      "\n",
      "Q4: Characteristics of x Array:\n",
      "- Shape = (4, 4)\n",
      "- Number of Dimensions = 2\n",
      "- Size = 16\n",
      "- Type = float64\n"
     ]
    }
   ],
   "source": [
    "# Print x array characteristics\n",
    "print(\"\\nQ4: Characteristics of x Array:\")\n",
    "print(\"- Shape =\", x.shape)\n",
    "print(\"- Number of Dimensions =\", x.ndim)\n",
    "print(\"- Size =\", x.size)\n",
    "print(\"- Type =\", x.dtype)"
   ]
  },
  {
   "cell_type": "markdown",
   "id": "dbd46a73",
   "metadata": {},
   "source": [
    "## Q#5: Create a 2D array \"called w\" as the following:\n",
    "\n",
    "|       |          |\n",
    "| ----- | -------- |\n",
    "| 11    | 12       |\n",
    "| 13    | 14       |\n",
    "| 15    | 16       |\n"
   ]
  },
  {
   "cell_type": "code",
   "execution_count": 135,
   "id": "b9c7bbb0",
   "metadata": {},
   "outputs": [
    {
     "name": "stdout",
     "output_type": "stream",
     "text": [
      "\n",
      "Q5: Array w:\n",
      "[[11 12]\n",
      " [13 14]\n",
      " [15 16]]\n"
     ]
    }
   ],
   "source": [
    "# Create a 2D array \"w\"\n",
    "w = np.array([[11, 12],[13, 14], [15, 16]])\n",
    "print(\"\\nQ5: Array w:\")\n",
    "print(w)"
   ]
  },
  {
   "cell_type": "markdown",
   "id": "0e62bd09",
   "metadata": {},
   "source": [
    "## Q#6: Create z array contains the numbers from 1 to 3."
   ]
  },
  {
   "cell_type": "code",
   "execution_count": 136,
   "id": "cee8aba0",
   "metadata": {},
   "outputs": [
    {
     "name": "stdout",
     "output_type": "stream",
     "text": [
      "\n",
      "Q6: Array z:\n",
      "[1 2 3]\n"
     ]
    }
   ],
   "source": [
    "# Create z array containing numbers from 1 to 3\n",
    "z = np.arange(1,4)\n",
    "print(\"\\nQ6: Array z:\")\n",
    "print(z)"
   ]
  },
  {
   "cell_type": "markdown",
   "id": "32b00711",
   "metadata": {},
   "source": [
    "## Q#7: Combine the arrays z and w in horizontal way then save it in a new variable \"newArray\"."
   ]
  },
  {
   "cell_type": "code",
   "execution_count": 137,
   "id": "d218f892",
   "metadata": {},
   "outputs": [
    {
     "name": "stdout",
     "output_type": "stream",
     "text": [
      "\n",
      "Q7: Combined Array newArray (w and z):\n",
      "[[11 12  1]\n",
      " [13 14  2]\n",
      " [15 16  3]]\n"
     ]
    }
   ],
   "source": [
    "# Combine arrays w and z horizontally\n",
    "z = z.reshape((3, 1)) # Reshape z to match the dimensions for hstack\n",
    "newArray = np.hstack((w,z))\n",
    "print(\"\\nQ7: Combined Array newArray (w and z):\")\n",
    "print(newArray)"
   ]
  },
  {
   "cell_type": "markdown",
   "id": "7e009910",
   "metadata": {},
   "source": [
    "## Q#8: Print all elements of \"newArray\" using the loop."
   ]
  },
  {
   "cell_type": "code",
   "execution_count": 138,
   "id": "abbed923",
   "metadata": {},
   "outputs": [
    {
     "name": "stdout",
     "output_type": "stream",
     "text": [
      "[11 12  1]\n",
      "[13 14  2]\n",
      "[15 16  3]\n"
     ]
    }
   ],
   "source": [
    "for array in newArray: \n",
    "    print(array)"
   ]
  },
  {
   "cell_type": "code",
   "execution_count": 139,
   "id": "2fa49bcb",
   "metadata": {},
   "outputs": [
    {
     "name": "stdout",
     "output_type": "stream",
     "text": [
      "\n",
      "Q8: Elements of newArray:\n",
      "11 12 1 \n",
      "13 14 2 \n",
      "15 16 3 \n"
     ]
    }
   ],
   "source": [
    "# Print all elements of \"newArray\" using the loop\n",
    "print(\"\\nQ8: Elements of newArray:\")\n",
    "for row in newArray:\n",
    "    for element in row:\n",
    "        print(element, end=\" \")\n",
    "    print()    "
   ]
  },
  {
   "cell_type": "markdown",
   "id": "011c6d2d",
   "metadata": {},
   "source": [
    "## Q#9: Reverse the columns and rows of \"newArray\"."
   ]
  },
  {
   "cell_type": "code",
   "execution_count": 140,
   "id": "12e3f0db",
   "metadata": {},
   "outputs": [
    {
     "name": "stdout",
     "output_type": "stream",
     "text": [
      "\n",
      "Q9: Transposed Array of newArray:\n",
      "[[11 13 15]\n",
      " [12 14 16]\n",
      " [ 1  2  3]]\n"
     ]
    }
   ],
   "source": [
    "# Reverse the columns and rows of \"newArray\"\n",
    "transposedArray = newArray.T\n",
    "print(\"\\nQ9: Transposed Array of newArray:\")\n",
    "print(transposedArray)"
   ]
  },
  {
   "cell_type": "markdown",
   "id": "f40b57c3",
   "metadata": {},
   "source": [
    "## Q#10: Decrement all elements of \"newArray\" with 1."
   ]
  },
  {
   "cell_type": "code",
   "execution_count": 141,
   "id": "aea004df",
   "metadata": {},
   "outputs": [
    {
     "name": "stdout",
     "output_type": "stream",
     "text": [
      "\n",
      "Q10: Decremented Array newArray:\n",
      "[[10 11  0]\n",
      " [12 13  1]\n",
      " [14 15  2]]\n"
     ]
    }
   ],
   "source": [
    "# Decrement all elements of \"newArray\" by 1\n",
    "newArray -= 1\n",
    "print(\"\\nQ10: Decremented Array newArray:\")\n",
    "print(newArray)"
   ]
  },
  {
   "cell_type": "markdown",
   "id": "8901e8be",
   "metadata": {},
   "source": [
    "## Q#11: Find smallest and biggest values in \"newArray\"."
   ]
  },
  {
   "cell_type": "code",
   "execution_count": 142,
   "id": "4ea08613",
   "metadata": {},
   "outputs": [
    {
     "name": "stdout",
     "output_type": "stream",
     "text": [
      "\n",
      "Q11: Smallest and Biggest Values in newArray:\n",
      "Smallest Value = 0\n",
      "Biggest Value =  15\n"
     ]
    }
   ],
   "source": [
    "# Find smallest and biggest values in \"newArray\"\n",
    "print(\"\\nQ11: Smallest and Biggest Values in newArray:\")\n",
    "print(\"Smallest Value =\", newArray.min())\n",
    "print(\"Biggest Value = \", newArray.max())"
   ]
  },
  {
   "cell_type": "markdown",
   "id": "c5d5d4ca",
   "metadata": {},
   "source": [
    "## Q#12: Print the first row of \"newArray\" using indexing."
   ]
  },
  {
   "cell_type": "code",
   "execution_count": 143,
   "id": "73e3b5a5",
   "metadata": {},
   "outputs": [
    {
     "name": "stdout",
     "output_type": "stream",
     "text": [
      "\n",
      "Q12: First Row in newArray:\n",
      "[10 11  0]\n"
     ]
    }
   ],
   "source": [
    "# Print the first row of \"newArray\" using indexing\n",
    "first_row = newArray[0]\n",
    "print(\"\\nQ12: First Row in newArray:\")\n",
    "print(first_row)"
   ]
  },
  {
   "cell_type": "markdown",
   "id": "78f4d6c1",
   "metadata": {},
   "source": [
    "## Q#13: Print the number equals 12 of \"newArray\" using indexing."
   ]
  },
  {
   "cell_type": "code",
   "execution_count": 144,
   "id": "7ad660b7",
   "metadata": {},
   "outputs": [
    {
     "name": "stdout",
     "output_type": "stream",
     "text": [
      "\n",
      "Q13: Element with value 12 in newArray:\n",
      "12\n"
     ]
    }
   ],
   "source": [
    "# Print the number equals 12 of \"newArray\" using indexing\n",
    "num_12 = newArray[1, 0]\n",
    "print(\"\\nQ13: Element with value 12 in newArray:\")\n",
    "print(num_12)"
   ]
  },
  {
   "cell_type": "markdown",
   "id": "932b5c3d",
   "metadata": {},
   "source": [
    "## Q#14: Print the numbers equal 0 and 13 of \"newArray\" using indexing."
   ]
  },
  {
   "cell_type": "code",
   "execution_count": 145,
   "id": "31fb5fd0",
   "metadata": {},
   "outputs": [
    {
     "name": "stdout",
     "output_type": "stream",
     "text": [
      "\n",
      "Q14: Elements with values 0 and 13 in newArray:\n",
      "Value 0: 0\n",
      "value 13: 13\n"
     ]
    }
   ],
   "source": [
    "# Q14: Print the numbers equal 0 and 13 of \"newArray\" using indexing\n",
    "num_0 = newArray[0, 2]\n",
    "num_13 = newArray[1, 1]\n",
    "print(\"\\nQ14: Elements with values 0 and 13 in newArray:\")\n",
    "print(\"Value 0:\", num_0)\n",
    "print(\"value 13:\", num_13)"
   ]
  },
  {
   "cell_type": "markdown",
   "id": "27e0f68e",
   "metadata": {},
   "source": [
    "## Q#15: Change the shape of \"newArray\" to (9,1)."
   ]
  },
  {
   "cell_type": "code",
   "execution_count": 146,
   "id": "35f224ad",
   "metadata": {},
   "outputs": [
    {
     "name": "stdout",
     "output_type": "stream",
     "text": [
      "\n",
      "Q15: Reshaped Array (9,1):\n",
      "[[10]\n",
      " [11]\n",
      " [ 0]\n",
      " [12]\n",
      " [13]\n",
      " [ 1]\n",
      " [14]\n",
      " [15]\n",
      " [ 2]]\n"
     ]
    }
   ],
   "source": [
    "# Change the shape of \"newArray\" to (9, 1)\n",
    "reshaped_array = newArray.reshape(9, 1)\n",
    "print(\"\\nQ15: Reshaped Array (9,1):\")\n",
    "print(reshaped_array)"
   ]
  },
  {
   "cell_type": "markdown",
   "id": "e6d104c5",
   "metadata": {},
   "source": [
    "## Q#16: Change the shape of \"newArray\" to (3,2)."
   ]
  },
  {
   "cell_type": "code",
   "execution_count": 147,
   "id": "724d51d5",
   "metadata": {},
   "outputs": [
    {
     "ename": "ValueError",
     "evalue": "cannot reshape array of size 9 into shape (3,2)",
     "output_type": "error",
     "traceback": [
      "\u001b[0;31m---------------------------------------------------------------------------\u001b[0m",
      "\u001b[0;31mValueError\u001b[0m                                Traceback (most recent call last)",
      "Cell \u001b[0;32mIn[147], line 1\u001b[0m\n\u001b[0;32m----> 1\u001b[0m reshaped_array1 \u001b[38;5;241m=\u001b[39m newArray\u001b[38;5;241m.\u001b[39mreshape(\u001b[38;5;241m3\u001b[39m, \u001b[38;5;241m2\u001b[39m)\n\u001b[1;32m      2\u001b[0m \u001b[38;5;28mprint\u001b[39m(\u001b[38;5;124m\"\u001b[39m\u001b[38;5;130;01m\\n\u001b[39;00m\u001b[38;5;124mQ16: Reshaped Array (3,2):\u001b[39m\u001b[38;5;124m\"\u001b[39m)\n\u001b[1;32m      3\u001b[0m \u001b[38;5;28mprint\u001b[39m(reshaped_array1)\n",
      "\u001b[0;31mValueError\u001b[0m: cannot reshape array of size 9 into shape (3,2)"
     ]
    }
   ],
   "source": [
    "reshaped_array1 = newArray.reshape(3, 2)\n",
    "print(\"\\nQ16: Reshaped Array (3,2):\")\n",
    "print(reshaped_array1)"
   ]
  },
  {
   "cell_type": "markdown",
   "id": "9d405693",
   "metadata": {},
   "source": [
    "We get this error because our array `newArray` has 9 elements and the required shape (3,2) only 6 elemets `2x3 =6`. So, for that we cannot reshape it. "
   ]
  },
  {
   "cell_type": "code",
   "execution_count": 148,
   "id": "94a031bd",
   "metadata": {},
   "outputs": [
    {
     "name": "stdout",
     "output_type": "stream",
     "text": [
      "\n",
      "Q16: Error:\n",
      "Cannot reshape array of size 9 into shape (3,2).\n"
     ]
    }
   ],
   "source": [
    "# Attempt to reshape \"newArray\" to (3,2) and handle error\n",
    "try:\n",
    "    reshaped_array1 = newArray.reshape(3, 2)\n",
    "    print(\"\\nQ16: Reshaped Array (3,2):\")\n",
    "    print(reshaped_array1)\n",
    "except ValueError as e:\n",
    "    print(\"\\nQ16: Error:\")\n",
    "    print(\"Cannot reshape array of size\", newArray.size, \"into shape (3,2).\")"
   ]
  },
  {
   "cell_type": "markdown",
   "id": "09567fdc",
   "metadata": {},
   "source": [
    "# Well Done 🎉"
   ]
  }
 ],
 "metadata": {
  "kernelspec": {
   "display_name": "Python 3 (ipykernel)",
   "language": "python",
   "name": "python3"
  },
  "language_info": {
   "codemirror_mode": {
    "name": "ipython",
    "version": 3
   },
   "file_extension": ".py",
   "mimetype": "text/x-python",
   "name": "python",
   "nbconvert_exporter": "python",
   "pygments_lexer": "ipython3",
   "version": "3.11.5"
  }
 },
 "nbformat": 4,
 "nbformat_minor": 5
}
